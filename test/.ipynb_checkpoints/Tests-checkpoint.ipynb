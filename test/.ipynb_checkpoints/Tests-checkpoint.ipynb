{
 "metadata": {
  "name": "",
  "signature": "sha256:cddf8c8b6ed958594fa6d53803050483b56dcca9cd59c1fb6e9c6eaba9f8a314"
 },
 "nbformat": 3,
 "nbformat_minor": 0,
 "worksheets": [
  {
   "cells": [
    {
     "cell_type": "code",
     "collapsed": false,
     "input": [
      "import networkx as nx\n",
      "import numpy as np\n",
      "\n",
      "from hiveplot import HivePlot\n",
      "\n",
      "%matplotlib inline"
     ],
     "language": "python",
     "metadata": {},
     "outputs": [],
     "prompt_number": 1
    },
    {
     "cell_type": "markdown",
     "metadata": {},
     "source": [
      "# Test Set Minor Angle"
     ]
    },
    {
     "cell_type": "code",
     "collapsed": false,
     "input": [
      "G = nx.read_gpickle('test_graph.pkl')"
     ],
     "language": "python",
     "metadata": {},
     "outputs": [],
     "prompt_number": 2
    },
    {
     "cell_type": "code",
     "collapsed": false,
     "input": [
      "groups = [1,2,3]\n",
      "\n",
      "nodes = dict()\n",
      "\n",
      "for g in groups:\n",
      "    nodes[g] = [n for n, d in G.nodes(data=True) if d['group'] == g]\n",
      "    \n",
      "nodes_cmap = dict(zip(groups, ['red', 'green', 'blue']))\n",
      "\n",
      "edges = dict()\n",
      "edges['group1'] = []\n",
      "for u,v,d in G.edges(data=True):\n",
      "    edges['group1'].append((u,v,d))"
     ],
     "language": "python",
     "metadata": {},
     "outputs": [],
     "prompt_number": 3
    },
    {
     "cell_type": "code",
     "collapsed": false,
     "input": [
      "h = HivePlot(nodes, edges, nodes_cmap)\n",
      "h.set_minor_angle(np.pi / 32)\n",
      "h.draw()"
     ],
     "language": "python",
     "metadata": {},
     "outputs": [
      {
       "metadata": {},
       "output_type": "display_data",
       "png": "[encoded data removed]",
       "text": [
        "<matplotlib.figure.Figure at 0x10f3d0a50>"
       ]
      }
     ],
     "prompt_number": 4
    },
    {
     "cell_type": "code",
     "collapsed": false,
     "input": [
      "# Add edge attribute for grouping.\n",
      "for sc, sk, d in G.edges(data=True):\n",
      "    if sc > sk:\n",
      "        G.edge[sc][sk]['order'] = 'backward'\n",
      "    if sk > sc:\n",
      "        G.edge[sc][sk]['order'] = 'forward'\n",
      "        \n",
      "G.edges(data=True)\n",
      "\n",
      "edges = dict()\n",
      "for sc, sk, d in G.edges(data=True):\n",
      "    if d['order'] not in edges.keys():\n",
      "        edges[d['order']] = []\n",
      "    edges[d['order']].append((sc, sk, d))"
     ],
     "language": "python",
     "metadata": {},
     "outputs": [],
     "prompt_number": 5
    },
    {
     "cell_type": "code",
     "collapsed": false,
     "input": [
      "# Test Edges colormap\n",
      "edge_cmap = dict()\n",
      "edge_cmap['forward'] = 'red'\n",
      "edge_cmap['backward'] = 'blue'\n",
      "\n",
      "h = HivePlot(nodes, edges, nodes_cmap, edge_cmap)\n",
      "h.set_minor_angle(np.pi / 32)\n",
      "h.draw()"
     ],
     "language": "python",
     "metadata": {},
     "outputs": [
      {
       "metadata": {},
       "output_type": "display_data",
       "png": "[encoded data removed]",
       "text": [
        "<matplotlib.figure.Figure at 0x111121890>"
       ]
      }
     ],
     "prompt_number": 6
    },
    {
     "cell_type": "markdown",
     "metadata": {},
     "source": [
      "# Test Two Groups Only"
     ]
    },
    {
     "cell_type": "code",
     "collapsed": false,
     "input": [
      "groups = [1, 3]\n",
      "\n",
      "nodes = dict()\n",
      "for g in groups:\n",
      "    nodes[g] = [n for n, d in G.nodes(data=True) if d['group'] == g]\n",
      "    \n",
      "nodes_cmap = dict(zip(groups, ['red', 'blue']))\n",
      "\n",
      "edges = dict()\n",
      "edges['forward'] = []\n",
      "edges['backward'] = []\n",
      "for u,v,d in G.edges(data=True):\n",
      "    if G.node[u]['group'] in groups and G.node[v]['group'] in groups:\n",
      "        if d['order'] == 'forward':\n",
      "            edges['forward'].append((u,v,d))\n",
      "        else:\n",
      "            edges['backward'].append((u,v,d))\n",
      "        \n",
      "\n",
      "\n",
      "edge_cmap = dict()\n",
      "edge_cmap['forward'] = 'red'\n",
      "edge_cmap['backward'] = 'blue'\n",
      "edges"
     ],
     "language": "python",
     "metadata": {},
     "outputs": [
      {
       "metadata": {},
       "output_type": "pyout",
       "prompt_number": 7,
       "text": [
        "{'backward': [('h', 'a', {'order': 'backward'})],\n",
        " 'forward': [('a', 'c', {'order': 'forward'}),\n",
        "  ('c', 'e', {'order': 'forward'})]}"
       ]
      }
     ],
     "prompt_number": 7
    },
    {
     "cell_type": "code",
     "collapsed": false,
     "input": [
      "nodes"
     ],
     "language": "python",
     "metadata": {},
     "outputs": [
      {
       "metadata": {},
       "output_type": "pyout",
       "prompt_number": 8,
       "text": [
        "{1: ['a', 'c', 'b'], 3: ['e', 'h']}"
       ]
      }
     ],
     "prompt_number": 8
    },
    {
     "cell_type": "code",
     "collapsed": false,
     "input": [
      "h = HivePlot(nodes, edges, nodes_cmap, edge_cmap)\n",
      "h.set_minor_angle(np.pi / 32)\n",
      "h.draw()"
     ],
     "language": "python",
     "metadata": {},
     "outputs": [
      {
       "metadata": {},
       "output_type": "display_data",
       "png": "[encoded data removed]",
       "text": [
        "<matplotlib.figure.Figure at 0x111132950>"
       ]
      }
     ],
     "prompt_number": 9
    },
    {
     "cell_type": "code",
     "collapsed": false,
     "input": [],
     "language": "python",
     "metadata": {},
     "outputs": [],
     "prompt_number": 9
    },
    {
     "cell_type": "code",
     "collapsed": false,
     "input": [],
     "language": "python",
     "metadata": {},
     "outputs": []
    }
   ],
   "metadata": {}
  }
 ]
}