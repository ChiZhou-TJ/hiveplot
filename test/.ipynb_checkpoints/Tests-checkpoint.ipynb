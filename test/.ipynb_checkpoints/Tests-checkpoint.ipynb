{
 "cells": [
  {
   "cell_type": "code",
   "execution_count": 1,
   "metadata": {
    "collapsed": false
   },
   "outputs": [],
   "source": [
    "import networkx as nx\n",
    "import numpy as np\n",
    "\n",
    "from hiveplot import HivePlot\n",
    "\n",
    "%matplotlib inline"
   ]
  },
  {
   "cell_type": "markdown",
   "metadata": {},
   "source": [
    "# Test Set Minor Angle"
   ]
  },
  {
   "cell_type": "code",
   "execution_count": 2,
   "metadata": {
    "collapsed": false
   },
   "outputs": [],
   "source": [
    "G = nx.read_gpickle('test_graph.pkl')"
   ]
  },
  {
   "cell_type": "code",
   "execution_count": 3,
   "metadata": {
    "collapsed": false
   },
   "outputs": [],
   "source": [
    "groups = [1,2,3]\n",
    "\n",
    "nodes = dict()\n",
    "\n",
    "for g in groups:\n",
    "    nodes[g] = [n for n, d in G.nodes(data=True) if d['group'] == g]\n",
    "    \n",
    "nodes_cmap = dict(zip(groups, ['red', 'green', 'blue']))\n",
    "\n",
    "edges = dict()\n",
    "edges['group1'] = []\n",
    "for u,v,d in G.edges(data=True):\n",
    "    edges['group1'].append((u,v,d))"
   ]
  },
  {
   "cell_type": "code",
   "execution_count": 4,
   "metadata": {
    "collapsed": false
   },
   "outputs": [
    {
     "data": {
      "image/png": "[encoded data removed]",
      "text/plain": [
       "<matplotlib.figure.Figure at 0x10e3126d8>"
      ]
     },
     "metadata": {},
     "output_type": "display_data"
    }
   ],
   "source": [
    "h = HivePlot(nodes, edges, nodes_cmap)\n",
    "h.set_minor_angle(np.pi / 32)\n",
    "h.draw()"
   ]
  },
  {
   "cell_type": "code",
   "execution_count": 5,
   "metadata": {
    "collapsed": false
   },
   "outputs": [],
   "source": [
    "# Add edge attribute for grouping.\n",
    "for sc, sk, d in G.edges(data=True):\n",
    "    if sc > sk:\n",
    "        G.edge[sc][sk]['order'] = 'backward'\n",
    "    if sk > sc:\n",
    "        G.edge[sc][sk]['order'] = 'forward'\n",
    "        \n",
    "G.edges(data=True)\n",
    "\n",
    "edges = dict()\n",
    "for sc, sk, d in G.edges(data=True):\n",
    "    if d['order'] not in edges.keys():\n",
    "        edges[d['order']] = []\n",
    "    edges[d['order']].append((sc, sk, d))"
   ]
  },
  {
   "cell_type": "code",
   "execution_count": 6,
   "metadata": {
    "collapsed": false
   },
   "outputs": [
    {
     "data": {
      "image/png": "[encoded data removed]",
      "text/plain": [
       "<matplotlib.figure.Figure at 0x110ab27b8>"
      ]
     },
     "metadata": {},
     "output_type": "display_data"
    }
   ],
   "source": [
    "# Test Edges colormap\n",
    "edge_cmap = dict()\n",
    "edge_cmap['forward'] = 'red'\n",
    "edge_cmap['backward'] = 'blue'\n",
    "\n",
    "h = HivePlot(nodes, edges, nodes_cmap, edge_cmap)\n",
    "h.set_minor_angle(np.pi / 32)\n",
    "h.draw()"
   ]
  },
  {
   "cell_type": "markdown",
   "metadata": {},
   "source": [
    "# Test Two Groups Only"
   ]
  },
  {
   "cell_type": "code",
   "execution_count": 7,
   "metadata": {
    "collapsed": false
   },
   "outputs": [
    {
     "data": {
      "text/plain": [
       "{'backward': [('h', 'a', {'order': 'backward'})],\n",
       " 'forward': [('c', 'e', {'order': 'forward'}),\n",
       "  ('a', 'c', {'order': 'forward'})]}"
      ]
     },
     "execution_count": 7,
     "metadata": {},
     "output_type": "execute_result"
    }
   ],
   "source": [
    "groups = [1, 3]\n",
    "\n",
    "nodes = dict()\n",
    "for g in groups:\n",
    "    nodes[g] = [n for n, d in G.nodes(data=True) if d['group'] == g]\n",
    "    \n",
    "nodes_cmap = dict(zip(groups, ['red', 'blue']))\n",
    "\n",
    "edges = dict()\n",
    "edges['forward'] = []\n",
    "edges['backward'] = []\n",
    "for u,v,d in G.edges(data=True):\n",
    "    if G.node[u]['group'] in groups and G.node[v]['group'] in groups:\n",
    "        if d['order'] == 'forward':\n",
    "            edges['forward'].append((u,v,d))\n",
    "        else:\n",
    "            edges['backward'].append((u,v,d))\n",
    "        \n",
    "\n",
    "\n",
    "edge_cmap = dict()\n",
    "edge_cmap['forward'] = 'red'\n",
    "edge_cmap['backward'] = 'blue'\n",
    "edges"
   ]
  },
  {
   "cell_type": "code",
   "execution_count": 8,
   "metadata": {
    "collapsed": false
   },
   "outputs": [
    {
     "data": {
      "text/plain": [
       "{1: ['c', 'a', 'b'], 3: ['e', 'h']}"
      ]
     },
     "execution_count": 8,
     "metadata": {},
     "output_type": "execute_result"
    }
   ],
   "source": [
    "nodes"
   ]
  },
  {
   "cell_type": "code",
   "execution_count": 9,
   "metadata": {
    "collapsed": false
   },
   "outputs": [
    {
     "data": {
      "image/png": "[encoded data removed]",
      "text/plain": [
       "<matplotlib.figure.Figure at 0x110ad44a8>"
      ]
     },
     "metadata": {},
     "output_type": "display_data"
    }
   ],
   "source": [
    "h = HivePlot(nodes, edges, nodes_cmap, edge_cmap)\n",
    "h.set_minor_angle(np.pi / 32)\n",
    "h.draw()"
   ]
  },
  {
   "cell_type": "code",
   "execution_count": null,
   "metadata": {
    "collapsed": false
   },
   "outputs": [],
   "source": []
  },
  {
   "cell_type": "code",
   "execution_count": null,
   "metadata": {
    "collapsed": false
   },
   "outputs": [],
   "source": []
  }
 ],
 "metadata": {
  "kernelspec": {
   "display_name": "Python 3",
   "language": "python",
   "name": "python3"
  },
  "language_info": {
   "codemirror_mode": {
    "name": "ipython",
    "version": 3
   },
   "file_extension": ".py",
   "mimetype": "text/x-python",
   "name": "python",
   "nbconvert_exporter": "python",
   "pygments_lexer": "ipython3",
   "version": "3.5.1"
  }
 },
 "nbformat": 4,
 "nbformat_minor": 0
}
